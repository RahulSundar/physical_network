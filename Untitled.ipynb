{
 "cells": [
  {
   "cell_type": "code",
   "execution_count": 2,
   "metadata": {
    "collapsed": true
   },
   "outputs": [],
   "source": [
    "from scipy.integrate import odeint\n",
    ">>> import matplotlib.pyplot as plt\n",
    "import numpy as np\n",
    "% matplotlib inline\n"
   ]
  },
  {
   "cell_type": "markdown",
   "metadata": {},
   "source": [
    "function for ODE "
   ]
  },
  {
   "cell_type": "code",
   "execution_count": 30,
   "metadata": {
    "collapsed": false
   },
   "outputs": [
    {
     "data": {
      "image/png": "[encoded data removed]",
      "text/plain": [
       "<matplotlib.figure.Figure at 0x7f3b3a9b4b50>"
      ]
     },
     "metadata": {},
     "output_type": "display_data"
    }
   ],
   "source": [
    ">>> def pend(y, t):\n",
    "...     y1, y2, y3 = y\n",
    "...     dydt = [y1*y3, -y2*y3, -y1*y1+y2*y2]\n",
    "...     return dydt\n",
    "x = 1.\n",
    ">>> y_init = [0., 0.1*x, 0.]\n",
    ">>> t = np.linspace(0, 10, 10)\n",
    ">>> sol = odeint(pend, y_init, t)\n",
    ">>> plt.plot(t, sol[:, 2], 'g', label='omega(t)')\n",
    ">>> plt.legend(loc='best')\n",
    ">>> plt.xlabel('t')\n",
    ">>> plt.grid()\n",
    ">>> plt.show()"
   ]
  },
  {
   "cell_type": "code",
   "execution_count": 17,
   "metadata": {
    "collapsed": false
   },
   "outputs": [
    {
     "name": "stdout",
     "output_type": "stream",
     "text": [
      "[ 0.          0.06434316  0.07705392]\n"
     ]
    }
   ],
   "source": [
    "x = 1.\n",
    "y_init = np.asarray([0., 0.1*x, 0.])\n",
    "delta_t = 0.1;\n",
    "t_final = 10;\n",
    "t = 0;\n",
    "while True:\n",
    "    if (t >= t_final):\n",
    "        break\n",
    "    else:\n",
    "        \n",
    "        derivative = np.asarray([y_init[0]*y_init[2],-y_init[1]*y_init[2],-y_init[0]**2+y_init[1]**2])\n",
    "        y_init = y_init + delta_t * derivative\n",
    "        t = t + delta_t\n",
    "print(y_init)\n"
   ]
  },
  {
   "cell_type": "code",
   "execution_count": 21,
   "metadata": {
    "collapsed": false
   },
   "outputs": [
    {
     "name": "stdout",
     "output_type": "stream",
     "text": [
      "[ 0.         -0.06427787  0.07610486]\n"
     ]
    }
   ],
   "source": [
    "x = -1.\n",
    "y_init = np.asarray([0., 0.1*x, 0.])\n",
    "def dev(y):\n",
    "    return np.asarray([y[0]*y[2],-y[1]*y[2],-y[0]**2+y[1]**2])\n",
    "derivative = dev(y_init)\n",
    "delta_t = 0.1;\n",
    "t_final = 10;\n",
    "t = 0;\n",
    "while True:\n",
    "    if (t >= t_final):\n",
    "        break\n",
    "    else:\n",
    "        y_tmp = y_init + delta_t * derivative\n",
    "        derivative = dev(y_tmp)\n",
    "        y_init = y_init + delta_t * derivative\n",
    "        t = t + delta_t\n",
    "print(y_init)\n"
   ]
  },
  {
   "cell_type": "code",
   "execution_count": 3,
   "metadata": {
    "collapsed": false
   },
   "outputs": [
    {
     "name": "stdout",
     "output_type": "stream",
     "text": [
      "('y: ', array([ 0. , -0.1,  0. ]), 0.0)\n",
      "(0.1, array([ 0. , -0.1,  0. ]))\n",
      "('y: ', array([ 0. , -0.1,  0. ]), 0.0)\n",
      "(0.2, array([ 0. , -0.1,  0. ]))\n",
      "('y: ', array([ 0. , -0.1,  0. ]), 0.0)\n",
      "(0.30000000000000004, array([ 0. , -0.1,  0. ]))\n",
      "('y: ', array([ 0. , -0.1,  0. ]), 0.0)\n",
      "(0.4, array([ 0. , -0.1,  0. ]))\n",
      "('y: ', array([ 0. , -0.1,  0. ]), 0.0)\n",
      "(0.5, array([ 0. , -0.1,  0. ]))\n",
      "('y: ', array([ 0. , -0.1,  0. ]), 0.0)\n",
      "(0.6, array([ 0. , -0.1,  0. ]))\n",
      "('y: ', array([ 0. , -0.1,  0. ]), 0.0)\n",
      "(0.7, array([ 0. , -0.1,  0. ]))\n",
      "('y: ', array([ 0. , -0.1,  0. ]), 0.0)\n",
      "(0.7999999999999999, array([ 0. , -0.1,  0. ]))\n",
      "('y: ', array([ 0. , -0.1,  0. ]), 0.0)\n",
      "(0.8999999999999999, array([ 0. , -0.1,  0. ]))\n",
      "('y: ', array([ 0. , -0.1,  0. ]), 0.0)\n",
      "(0.9999999999999999, array([ 0. , -0.1,  0. ]))\n",
      "('y: ', array([ 0. , -0.1,  0. ]), 0.0)\n",
      "(1.0999999999999999, array([ 0. , -0.1,  0. ]))\n",
      "('y: ', array([ 0. , -0.1,  0. ]), 0.0)\n",
      "(1.2, array([ 0. , -0.1,  0. ]))\n",
      "('y: ', array([ 0. , -0.1,  0. ]), 0.0)\n",
      "(1.3, array([ 0. , -0.1,  0. ]))\n",
      "('y: ', array([ 0. , -0.1,  0. ]), 0.0)\n",
      "(1.4000000000000001, array([ 0. , -0.1,  0. ]))\n",
      "('y: ', array([ 0. , -0.1,  0. ]), 0.0)\n",
      "(1.5000000000000002, array([ 0. , -0.1,  0. ]))\n",
      "('y: ', array([ 0. , -0.1,  0. ]), 0.0)\n",
      "(1.6000000000000003, array([ 0. , -0.1,  0. ]))\n",
      "('y: ', array([ 0. , -0.1,  0. ]), 0.0)\n",
      "(1.7000000000000004, array([ 0. , -0.1,  0. ]))\n",
      "('y: ', array([ 0. , -0.1,  0. ]), 0.0)\n",
      "(1.8000000000000005, array([ 0. , -0.1,  0. ]))\n",
      "('y: ', array([ 0. , -0.1,  0. ]), 0.0)\n",
      "(1.9000000000000006, array([ 0. , -0.1,  0. ]))\n",
      "('y: ', array([ 0. , -0.1,  0. ]), 0.0)\n",
      "(2.0000000000000004, array([ 0. , -0.1,  0. ]))\n",
      "('y: ', array([ 0. , -0.1,  0. ]), 0.0)\n",
      "(2.1000000000000005, array([ 0. , -0.1,  0. ]))\n",
      "('y: ', array([ 0. , -0.1,  0. ]), 0.0)\n",
      "(2.2000000000000006, array([ 0. , -0.1,  0. ]))\n",
      "('y: ', array([ 0. , -0.1,  0. ]), 0.0)\n",
      "(2.3000000000000007, array([ 0. , -0.1,  0. ]))\n",
      "('y: ', array([ 0. , -0.1,  0. ]), 0.0)\n",
      "(2.400000000000001, array([ 0. , -0.1,  0. ]))\n",
      "('y: ', array([ 0. , -0.1,  0. ]), 0.0)\n",
      "(2.500000000000001, array([ 0. , -0.1,  0. ]))\n",
      "('y: ', array([ 0. , -0.1,  0. ]), 0.0)\n",
      "(2.600000000000001, array([ 0. , -0.1,  0. ]))\n",
      "('y: ', array([ 0. , -0.1,  0. ]), 0.0)\n",
      "(2.700000000000001, array([ 0. , -0.1,  0. ]))\n",
      "('y: ', array([ 0. , -0.1,  0. ]), 0.0)\n",
      "(2.800000000000001, array([ 0. , -0.1,  0. ]))\n",
      "('y: ', array([ 0. , -0.1,  0. ]), 0.0)\n",
      "(2.9000000000000012, array([ 0. , -0.1,  0. ]))\n",
      "('y: ', array([ 0. , -0.1,  0. ]), 0.0)\n",
      "(3.0000000000000013, array([ 0. , -0.1,  0. ]))\n",
      "('y: ', array([ 0. , -0.1,  0. ]), 0.0)\n",
      "(3.1000000000000014, array([ 0. , -0.1,  0. ]))\n",
      "('y: ', array([ 0. , -0.1,  0. ]), 0.0)\n",
      "(3.2000000000000015, array([ 0. , -0.1,  0. ]))\n",
      "('y: ', array([ 0. , -0.1,  0. ]), 0.0)\n",
      "(3.3000000000000016, array([ 0. , -0.1,  0. ]))\n",
      "('y: ', array([ 0. , -0.1,  0. ]), 0.0)\n",
      "(3.4000000000000017, array([ 0. , -0.1,  0. ]))\n",
      "('y: ', array([ 0. , -0.1,  0. ]), 0.0)\n",
      "(3.5000000000000018, array([ 0. , -0.1,  0. ]))\n",
      "('y: ', array([ 0. , -0.1,  0. ]), 0.0)\n",
      "(3.600000000000002, array([ 0. , -0.1,  0. ]))\n",
      "('y: ', array([ 0. , -0.1,  0. ]), 0.0)\n",
      "(3.700000000000002, array([ 0. , -0.1,  0. ]))\n",
      "('y: ', array([ 0. , -0.1,  0. ]), 0.0)\n",
      "(3.800000000000002, array([ 0. , -0.1,  0. ]))\n",
      "('y: ', array([ 0. , -0.1,  0. ]), 0.0)\n",
      "(3.900000000000002, array([ 0. , -0.1,  0. ]))\n",
      "('y: ', array([ 0. , -0.1,  0. ]), 0.0)\n",
      "(4.000000000000002, array([ 0. , -0.1,  0. ]))\n",
      "('y: ', array([ 0. , -0.1,  0. ]), 0.0)\n",
      "(4.100000000000001, array([ 0. , -0.1,  0. ]))\n",
      "('y: ', array([ 0. , -0.1,  0. ]), 0.0)\n",
      "(4.200000000000001, array([ 0. , -0.1,  0. ]))\n",
      "('y: ', array([ 0. , -0.1,  0. ]), 0.0)\n",
      "(4.300000000000001, array([ 0. , -0.1,  0. ]))\n",
      "('y: ', array([ 0. , -0.1,  0. ]), 0.0)\n",
      "(4.4, array([ 0. , -0.1,  0. ]))\n",
      "('y: ', array([ 0. , -0.1,  0. ]), 0.0)\n",
      "(4.5, array([ 0. , -0.1,  0. ]))\n",
      "('y: ', array([ 0. , -0.1,  0. ]), 0.0)\n",
      "(4.6, array([ 0. , -0.1,  0. ]))\n",
      "('y: ', array([ 0. , -0.1,  0. ]), 0.0)\n",
      "(4.699999999999999, array([ 0. , -0.1,  0. ]))\n",
      "('y: ', array([ 0. , -0.1,  0. ]), 0.0)\n",
      "(4.799999999999999, array([ 0. , -0.1,  0. ]))\n",
      "('y: ', array([ 0. , -0.1,  0. ]), 0.0)\n",
      "(4.899999999999999, array([ 0. , -0.1,  0. ]))\n",
      "('y: ', array([ 0. , -0.1,  0. ]), 0.0)\n",
      "(4.999999999999998, array([ 0. , -0.1,  0. ]))\n",
      "('y: ', array([ 0. , -0.1,  0. ]), 0.0)\n",
      "(5.099999999999998, array([ 0. , -0.1,  0. ]))\n",
      "('y: ', array([ 0. , -0.1,  0. ]), 0.0)\n",
      "(5.1999999999999975, array([ 0. , -0.1,  0. ]))\n",
      "('y: ', array([ 0. , -0.1,  0. ]), 0.0)\n",
      "(5.299999999999997, array([ 0. , -0.1,  0. ]))\n",
      "('y: ', array([ 0. , -0.1,  0. ]), 0.0)\n",
      "(5.399999999999997, array([ 0. , -0.1,  0. ]))\n",
      "('y: ', array([ 0. , -0.1,  0. ]), 0.0)\n",
      "(5.4999999999999964, array([ 0. , -0.1,  0. ]))\n",
      "('y: ', array([ 0. , -0.1,  0. ]), 0.0)\n",
      "(5.599999999999996, array([ 0. , -0.1,  0. ]))\n",
      "('y: ', array([ 0. , -0.1,  0. ]), 0.0)\n",
      "(5.699999999999996, array([ 0. , -0.1,  0. ]))\n",
      "('y: ', array([ 0. , -0.1,  0. ]), 0.0)\n",
      "(5.799999999999995, array([ 0. , -0.1,  0. ]))\n",
      "('y: ', array([ 0. , -0.1,  0. ]), 0.0)\n",
      "(5.899999999999995, array([ 0. , -0.1,  0. ]))\n",
      "('y: ', array([ 0. , -0.1,  0. ]), 0.0)\n",
      "(5.999999999999995, array([ 0. , -0.1,  0. ]))\n",
      "('y: ', array([ 0. , -0.1,  0. ]), 0.0)\n",
      "(6.099999999999994, array([ 0. , -0.1,  0. ]))\n",
      "('y: ', array([ 0. , -0.1,  0. ]), 0.0)\n",
      "(6.199999999999994, array([ 0. , -0.1,  0. ]))\n",
      "('y: ', array([ 0. , -0.1,  0. ]), 0.0)\n",
      "(6.299999999999994, array([ 0. , -0.1,  0. ]))\n",
      "('y: ', array([ 0. , -0.1,  0. ]), 0.0)\n",
      "(6.399999999999993, array([ 0. , -0.1,  0. ]))\n",
      "('y: ', array([ 0. , -0.1,  0. ]), 0.0)\n",
      "(6.499999999999993, array([ 0. , -0.1,  0. ]))\n",
      "('y: ', array([ 0. , -0.1,  0. ]), 0.0)\n",
      "(6.5999999999999925, array([ 0. , -0.1,  0. ]))\n",
      "('y: ', array([ 0. , -0.1,  0. ]), 0.0)\n",
      "(6.699999999999992, array([ 0. , -0.1,  0. ]))\n",
      "('y: ', array([ 0. , -0.1,  0. ]), 0.0)\n",
      "(6.799999999999992, array([ 0. , -0.1,  0. ]))\n",
      "('y: ', array([ 0. , -0.1,  0. ]), 0.0)\n",
      "(6.8999999999999915, array([ 0. , -0.1,  0. ]))\n",
      "('y: ', array([ 0. , -0.1,  0. ]), 0.0)\n",
      "(6.999999999999991, array([ 0. , -0.1,  0. ]))\n",
      "('y: ', array([ 0. , -0.1,  0. ]), 0.0)\n",
      "(7.099999999999991, array([ 0. , -0.1,  0. ]))\n",
      "('y: ', array([ 0. , -0.1,  0. ]), 0.0)\n",
      "(7.19999999999999, array([ 0. , -0.1,  0. ]))\n",
      "('y: ', array([ 0. , -0.1,  0. ]), 0.0)\n",
      "(7.29999999999999, array([ 0. , -0.1,  0. ]))\n",
      "('y: ', array([ 0. , -0.1,  0. ]), 0.0)\n",
      "(7.39999999999999, array([ 0. , -0.1,  0. ]))\n",
      "('y: ', array([ 0. , -0.1,  0. ]), 0.0)\n",
      "(7.499999999999989, array([ 0. , -0.1,  0. ]))\n",
      "('y: ', array([ 0. , -0.1,  0. ]), 0.0)\n",
      "(7.599999999999989, array([ 0. , -0.1,  0. ]))\n",
      "('y: ', array([ 0. , -0.1,  0. ]), 0.0)\n",
      "(7.699999999999989, array([ 0. , -0.1,  0. ]))\n",
      "('y: ', array([ 0. , -0.1,  0. ]), 0.0)\n",
      "(7.799999999999988, array([ 0. , -0.1,  0. ]))\n",
      "('y: ', array([ 0. , -0.1,  0. ]), 0.0)\n",
      "(7.899999999999988, array([ 0. , -0.1,  0. ]))\n",
      "('y: ', array([ 0. , -0.1,  0. ]), 0.0)\n",
      "(7.999999999999988, array([ 0. , -0.1,  0. ]))\n",
      "('y: ', array([ 0. , -0.1,  0. ]), 0.0)\n",
      "(8.099999999999987, array([ 0. , -0.1,  0. ]))\n",
      "('y: ', array([ 0. , -0.1,  0. ]), 0.0)\n",
      "(8.199999999999987, array([ 0. , -0.1,  0. ]))\n",
      "('y: ', array([ 0. , -0.1,  0. ]), 0.0)\n",
      "(8.299999999999986, array([ 0. , -0.1,  0. ]))\n",
      "('y: ', array([ 0. , -0.1,  0. ]), 0.0)\n",
      "(8.399999999999986, array([ 0. , -0.1,  0. ]))\n",
      "('y: ', array([ 0. , -0.1,  0. ]), 0.0)\n",
      "(8.499999999999986, array([ 0. , -0.1,  0. ]))\n",
      "('y: ', array([ 0. , -0.1,  0. ]), 0.0)\n",
      "(8.599999999999985, array([ 0. , -0.1,  0. ]))\n",
      "('y: ', array([ 0. , -0.1,  0. ]), 0.0)\n",
      "(8.699999999999985, array([ 0. , -0.1,  0. ]))\n",
      "('y: ', array([ 0. , -0.1,  0. ]), 0.0)\n",
      "(8.799999999999985, array([ 0. , -0.1,  0. ]))\n",
      "('y: ', array([ 0. , -0.1,  0. ]), 0.0)\n",
      "(8.899999999999984, array([ 0. , -0.1,  0. ]))\n",
      "('y: ', array([ 0. , -0.1,  0. ]), 0.0)\n",
      "(8.999999999999984, array([ 0. , -0.1,  0. ]))\n",
      "('y: ', array([ 0. , -0.1,  0. ]), 0.0)\n",
      "(9.099999999999984, array([ 0. , -0.1,  0. ]))\n",
      "('y: ', array([ 0. , -0.1,  0. ]), 0.0)\n",
      "(9.199999999999983, array([ 0. , -0.1,  0. ]))\n",
      "('y: ', array([ 0. , -0.1,  0. ]), 0.0)\n",
      "(9.299999999999983, array([ 0. , -0.1,  0. ]))\n",
      "('y: ', array([ 0. , -0.1,  0. ]), 0.0)\n",
      "(9.399999999999983, array([ 0. , -0.1,  0. ]))\n",
      "('y: ', array([ 0. , -0.1,  0. ]), 0.0)\n",
      "(9.499999999999982, array([ 0. , -0.1,  0. ]))\n",
      "('y: ', array([ 0. , -0.1,  0. ]), 0.0)\n",
      "(9.599999999999982, array([ 0. , -0.1,  0. ]))\n",
      "('y: ', array([ 0. , -0.1,  0. ]), 0.0)\n",
      "(9.699999999999982, array([ 0. , -0.1,  0. ]))\n",
      "('y: ', array([ 0. , -0.1,  0. ]), 0.0)\n",
      "(9.799999999999981, array([ 0. , -0.1,  0. ]))\n",
      "('y: ', array([ 0. , -0.1,  0. ]), 0.0)\n",
      "(9.89999999999998, array([ 0. , -0.1,  0. ]))\n",
      "('y: ', array([ 0. , -0.1,  0. ]), 0.0)\n",
      "(9.99999999999998, array([ 0. , -0.1,  0. ]))\n",
      "('y: ', array([ 0. , -0.1,  0. ]), 0.0)\n",
      "(10.09999999999998, array([ 0. , -0.1,  0. ]))\n"
     ]
    }
   ],
   "source": [
    "from numpy.linalg import norm\n",
    "import numpy as np\n",
    "\n",
    "def dev(y):\n",
    "    return np.asarray([y[0]*y[2],-y[1]*y[2],-y[0]**2+y[1]**2])\n",
    "\n",
    "def f_newton(y):\n",
    "    y1, y2, y3 = y\n",
    "    yy1 = y1 - delta_t * y1*y3\n",
    "    yy2 = y2 + delta_t * y2*y3\n",
    "    yy3 = y3 - delta_t * (-y1**2*y2**2)\n",
    "    return np.asarray([yy1,yy2,yy3])\n",
    "\n",
    "def df_newton(y):\n",
    "    y1, y2, y3 = y\n",
    "    yy1 = 1 - delta_t * 1*y3\n",
    "    yy2 = 1 + delta_t * 1*y3\n",
    "    yy3 = 1 - delta_t * (-y1**2*2*y2)\n",
    "    return np.asarray([yy1,yy2,yy3])\n",
    "\n",
    "def newtons_method(f, df, y0, eps=1e-8):\n",
    "    y = y0 #initial guess \n",
    "    cnt = 0\n",
    "    while norm(f_newton(y)-y0) > eps:\n",
    "        y = y - f_newton(y)/df_newton(y)\n",
    "        cnt += 1\n",
    "        if cnt>100:\n",
    "            break\n",
    "    print('y: ', y, norm(f_newton(y)-y0))\n",
    "    return y\n",
    "    \n",
    "x = -1.\n",
    "y_init = np.asarray([0., 0.1*x, 0.])\n",
    "delta_t = 0.1;\n",
    "t_final = 10;\n",
    "t = 0;\n",
    "while (t < t_final):\n",
    "    y_init = newtons_method(f_newton, df_newton, y_init)\n",
    "    t += delta_t\n",
    "    print(t,y_init)"
   ]
  },
  {
   "cell_type": "code",
   "execution_count": 24,
   "metadata": {
    "collapsed": false
   },
   "outputs": [
    {
     "name": "stdout",
     "output_type": "stream",
     "text": [
      " Root is at:  0\n",
      "f(x) at root is:  0\n",
      "Root is at:  0.628668078167\n",
      "f(x) at root is:  -1.37853879978e-06\n",
      "Root is at:  1\n",
      "f(x) at root is:  0\n"
     ]
    }
   ],
   "source": [
    "\n",
    "def dx(f, x):\n",
    "    return abs(0-f(x))\n",
    " \n",
    "def newtons_method(f, df, x0, e):\n",
    "    delta = dx(f, x0)\n",
    "    while delta > e:\n",
    "        x0 = x0 - f(x0)/df(x0)\n",
    "        delta = dx(f, x0)\n",
    "    print 'Root is at: ', x0\n",
    "    print 'f(x) at root is: ', f(x0)\n",
    "\n",
    "    \n",
    "\n",
    "def f(x):\n",
    "    return 6*x**5-5*x**4-4*x**3+3*x**2\n",
    " \n",
    "def df(x):\n",
    "    return 30*x**4-20*x**3-12*x**2+6*x\n",
    "\n",
    "\n",
    "x0s = [0, .5, 1]\n",
    "for x0 in x0s:\n",
    "    newtons_method(f, df, x0, 1e-5)\n",
    " "
   ]
  },
  {
   "cell_type": "code",
   "execution_count": 28,
   "metadata": {
    "collapsed": false
   },
   "outputs": [
    {
     "data": {
      "image/png": "[encoded data removed]",
      "text/plain": [
       "<matplotlib.figure.Figure at 0x7f3b3cfb5950>"
      ]
     },
     "metadata": {},
     "output_type": "display_data"
    }
   ],
   "source": [
    ">>> def pend(y, t, b, c):\n",
    "...     theta, omega = y\n",
    "...     dydt = [omega, -b*omega - c*np.sin(theta)]\n",
    "...     return dydt\n",
    "...\n",
    ">>> b = 0.25\n",
    ">>> c = 5.0\n",
    ">>> y0 = [np.pi - 0.1, 0.0]\n",
    ">>> t = np.linspace(0, 10, 101)\n",
    ">>> from scipy.integrate import odeint\n",
    ">>> sol = odeint(pend, y0, t, args=(b, c))\n",
    ">>> import matplotlib.pyplot as plt\n",
    ">>> plt.plot(t, sol[:, 0], 'b', label='theta(t)')\n",
    ">>> plt.plot(t, sol[:, 1], 'g', label='omega(t)')\n",
    ">>> plt.legend(loc='best')\n",
    ">>> plt.xlabel('t')\n",
    ">>> plt.grid()\n",
    ">>> plt.show()"
   ]
  },
  {
   "cell_type": "code",
   "execution_count": 10,
   "metadata": {
    "collapsed": false
   },
   "outputs": [
    {
     "name": "stdout",
     "output_type": "stream",
     "text": [
      "2.66937544975\n",
      "1.79548297007\n"
     ]
    }
   ],
   "source": [
    "\n",
    "# FB - 201104096\n",
    "import math\n",
    "# First Order ODE (y' = f(x, y)) Solver using Euler method\n",
    "# xa: initial value of independent variable\n",
    "# xb: final value of independent variable\n",
    "# ya: initial value of dependent variable\n",
    "# n : number of steps (higher the better)\n",
    "# Returns value of y at xb. \n",
    "def Euler(f, xa, xb, ya, n):\n",
    "    h = (xb - xa) / float(n)\n",
    "    x = xa\n",
    "    y = ya\n",
    "    for i in range(n):\n",
    "        y += h * f(x, y)\n",
    "        x += h\n",
    "    return y\n",
    "\n",
    "# Second Order ODE (y'' = f(x, y, y')) Solver using Euler method\n",
    "# y1a: initial value of first derivative of dependent variable\n",
    "def Euler2(f, xa, xb, ya, y1a, n):\n",
    "    h = (xb - xa) / float(n)\n",
    "    x = xa\n",
    "    y = ya\n",
    "    y1 = y1a\n",
    "    for i in range(n):\n",
    "        y1 += h * f(x, y, y1)\n",
    "        y += h * y1\n",
    "        x += h\n",
    "    return y\n",
    "\n",
    "print Euler(lambda x, y: math.cos(x) + math.sin(y), 0, 1, 1, 1000)\n",
    "print Euler2(lambda x, y, y1: math.sin(x * y) - y1, 0, 1, 1, 1, 1000)\n"
   ]
  },
  {
   "cell_type": "code",
   "execution_count": 14,
   "metadata": {
    "collapsed": false
   },
   "outputs": [
    {
     "name": "stdout",
     "output_type": "stream",
     "text": [
      "2.66937544975\n",
      "1.91000864539\n"
     ]
    }
   ],
   "source": [
    "print Euler(lambda x, y: math.cos(x) + math.sin(y), 0, 1, 1, 1000)\n",
    "print Euler2(lambda x, y, y1: math.cos(x) + math.sin(y), 0, 1, 1, 0, 1000)"
   ]
  }
 ],
 "metadata": {
  "kernelspec": {
   "display_name": "Python [Root]",
   "language": "python",
   "name": "Python [Root]"
  },
  "language_info": {
   "codemirror_mode": {
    "name": "ipython",
    "version": 2
   },
   "file_extension": ".py",
   "mimetype": "text/x-python",
   "name": "python",
   "nbconvert_exporter": "python",
   "pygments_lexer": "ipython2",
   "version": "2.7.12"
  }
 },
 "nbformat": 4,
 "nbformat_minor": 0
}
